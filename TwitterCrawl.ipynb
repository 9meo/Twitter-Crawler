{
 "cells": [
  {
   "cell_type": "code",
   "execution_count": null,
   "metadata": {},
   "outputs": [],
   "source": [
    "import tweepy\n",
    "import re\n",
    "import time"
   ]
  },
  {
   "cell_type": "code",
   "execution_count": null,
   "metadata": {},
   "outputs": [],
   "source": [
    "consumer_key = ''\n",
    "consumer_secret = ''\n",
    "access_token = ''\n",
    "access_token_secret = ''"
   ]
  },
  {
   "cell_type": "code",
   "execution_count": null,
   "metadata": {},
   "outputs": [],
   "source": [
    "# OAuth process, using the keys and tokens\n",
    "auth = tweepy.OAuthHandler(consumer_key, consumer_secret)\n",
    "auth.set_access_token(access_token, access_token_secret)\n",
    " \n",
    "# Creation of the actual interface, using authentication\n",
    "api = tweepy.API(auth)"
   ]
  },
  {
   "cell_type": "code",
   "execution_count": null,
   "metadata": {},
   "outputs": [],
   "source": [
    "data=[]\n",
    "query = \"สวัสดีบอลโลก\" # Keyword ที่ต้องการ เก็บ\n",
    "maxtweet=100 # จำนวน Tweet ที่ต้องการเก็บ\n",
    "for tweet in tweepy.Cursor(api.search,\n",
    "                           q=query,\n",
    "                           count=100,\n",
    "                           result_type=\"recent\",\n",
    "                           include_entities=True,\n",
    "                           lang=\"th\",\n",
    "                           wait_on_rate_limit=True).items():\n",
    "    text = tweet.text.replace('\\n','')\n",
    "    time.sleep(1)\n",
    "    if text not in data:\n",
    "        data.append(text) #เก็บข้อมูลไว้ในตัวแปร data\n",
    "        if len(data) == maxtweet:\n",
    "            break"
   ]
  },
  {
   "cell_type": "code",
   "execution_count": null,
   "metadata": {},
   "outputs": [],
   "source": [
    "data"
   ]
  },
  {
   "cell_type": "code",
   "execution_count": null,
   "metadata": {},
   "outputs": [],
   "source": [
    "from wordcut import Wordcut\n",
    "custom_word = ['ทองหยิบ','ทองหยอด','ฝอยทอง','ออเจ้า','น่ากิน','ยิ่งนัก','อยุธยา','หลวงศรียศ','หมูโสร่ง','กระโปรง']    #เพิ่มคำศัพท์เพื่อให้ตัดคำได้ถูกต้อง\n",
    "if __name__ == '__main__':\n",
    "    with open('bigthai.txt', encoding=\"UTF-8\") as dict_file:\n",
    "        word_list = list(set([w.rstrip() for w in dict_file.readlines()])) #Load คำศัพท์\n",
    "        word_list.extend(custom_word)\n",
    "        wordcut = Wordcut(word_list)\n",
    "        print(wordcut.tokenize(\"หมูโสร่ง พอทำเอง ทำไมกลายเป็นหมูกระโปรงล่ะ\")) #ทดสอบตัดคำ"
   ]
  },
  {
   "cell_type": "code",
   "execution_count": null,
   "metadata": {},
   "outputs": [],
   "source": [
    "def removeEmoji(text):\n",
    "    emoji_pattern = re.compile(\"[\"\n",
    "                           u\"\\U0001F600-\\U0001F64F\"  # emoticons\n",
    "                           u\"\\U0001F300-\\U0001F5FF\"  # symbols & pictographs\n",
    "                           u\"\\U0001F680-\\U0001F6FF\"  # transport & map symbols\n",
    "                           u\"\\U0001F1E0-\\U0001F1FF\"  # flags (iOS)\n",
    "                           u\"\\U00002702-\\U000027B0\"\n",
    "                           u\"\\U000024C2-\\U0001F251\"\n",
    "                           \"]+\", flags=re.UNICODE)\n",
    "    return emoji_pattern.sub(r'',text)"
   ]
  },
  {
   "cell_type": "code",
   "execution_count": null,
   "metadata": {},
   "outputs": [],
   "source": [
    "def cleanText(text):\n",
    "    res=[]\n",
    "    text=text.replace('\"','').replace(\"'\",\"\").replace('&quot;','').replace('...','').replace('?','')\n",
    "    text = re.sub('[“!”….:~-]', '',tw)   #Remove Escape Character\n",
    "    text = removeEmoji(tw)     #Remove Emoji\n",
    "    seg2 =[]\n",
    "    for s in text.split():\n",
    "        if  s.startswith('@') or  s.startswith('#') or s.startswith('RT@') or s=='RT' : \n",
    "            seg2.append(s.replace('RT',''))   #Remove RT\n",
    "        elif s.lower().startswith('http') :    # Remove URL\n",
    "            continue\n",
    "        else:\n",
    "            seg2.extend(wordcut.tokenize(s)) \n",
    "    res.extend(seg2)\n",
    "    return res"
   ]
  },
  {
   "cell_type": "code",
   "execution_count": null,
   "metadata": {},
   "outputs": [],
   "source": [
    "output=[]\n",
    "for tw in data:\n",
    "    tw = removeEmoji(tw)\n",
    "    tw = cleanText(tw)\n",
    "    stoplist = ['ที่','นี้','ไม่','ให้','ได้']\n",
    "    tw = ' '.join(res).replace('ออ เจ้า','ออเจ้า').split()\n",
    "    tw = ' '.join(res).replace('ขุน ศรี ยศ','ขุนศรียศ').split()\n",
    "    tw = ' '.join(res).replace('หลวง ศรี ยศ','หลวงศรียศ').split()\n",
    "    tw = ' '.join(res).replace('แม่กา ระ เกด','แม่การะเกด').split()\n",
    "    tw = [x for x in res if x not in stoplist]\n",
    "    output.extend(tw)"
   ]
  },
  {
   "cell_type": "code",
   "execution_count": null,
   "metadata": {},
   "outputs": [],
   "source": [
    "file = open('data_search-01.txt','w',encoding='utf-8')\n",
    "file.write('keyword\\n')\n",
    "for r in output:\n",
    "    if len(r.strip()) > 2:\n",
    "        file.write(r+'\\n')\n",
    "file.flush()\n",
    "file.close()"
   ]
  },
  {
   "cell_type": "code",
   "execution_count": null,
   "metadata": {},
   "outputs": [],
   "source": []
  }
 ],
 "metadata": {
  "kernelspec": {
   "display_name": "Python 3",
   "language": "python",
   "name": "python3"
  },
  "language_info": {
   "codemirror_mode": {
    "name": "ipython",
    "version": 3
   },
   "file_extension": ".py",
   "mimetype": "text/x-python",
   "name": "python",
   "nbconvert_exporter": "python",
   "pygments_lexer": "ipython3",
   "version": "3.6.4"
  }
 },
 "nbformat": 4,
 "nbformat_minor": 2
}
